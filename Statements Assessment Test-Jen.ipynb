{
 "cells": [
  {
   "cell_type": "markdown",
   "metadata": {
    "collapsed": true
   },
   "source": [
    "# Statements Assessment Test\n",
    "Lets test your knowledge!"
   ]
  },
  {
   "cell_type": "markdown",
   "metadata": {},
   "source": [
    "_____\n",
    "**Use for, split(), and if to create a Statement that will print out words that start with 's':**"
   ]
  },
  {
   "cell_type": "code",
   "execution_count": 9,
   "metadata": {
    "collapsed": true
   },
   "outputs": [],
   "source": [
    "st = 'Print only the words that start with s in this sentence'"
   ]
  },
  {
   "cell_type": "code",
   "execution_count": 10,
   "metadata": {},
   "outputs": [
    {
     "name": "stdout",
     "output_type": "stream",
     "text": [
      "start\n",
      "s\n",
      "sentence\n"
     ]
    }
   ],
   "source": [
    "for word in st.split(' '):\n",
    "    if word[0] == 's':\n",
    "        print word"
   ]
  },
  {
   "cell_type": "markdown",
   "metadata": {},
   "source": [
    "______\n",
    "**Use range() to print all the even numbers from 0 to 10.**"
   ]
  },
  {
   "cell_type": "code",
   "execution_count": 4,
   "metadata": {},
   "outputs": [
    {
     "data": {
      "text/plain": [
       "[0, 2, 4, 6, 8, 10]"
      ]
     },
     "execution_count": 4,
     "metadata": {},
     "output_type": "execute_result"
    }
   ],
   "source": [
    "# [x for x in xrange(11) if x % 2 == 0]\n",
    "x"
   ]
  },
  {
   "cell_type": "markdown",
   "metadata": {},
   "source": [
    "___\n",
    "**Use List comprehension to create a list of all numbers between 1 and 50 that are divisible by 3.**"
   ]
  },
  {
   "cell_type": "code",
   "execution_count": 3,
   "metadata": {},
   "outputs": [
    {
     "data": {
      "text/plain": [
       "[3, 6, 9, 12, 15, 18, 21, 24, 27, 30, 33, 36, 39, 42, 45, 48]"
      ]
     },
     "execution_count": 3,
     "metadata": {},
     "output_type": "execute_result"
    }
   ],
   "source": [
    "[x for x in xrange(1,51) if x % 3 == 0]"
   ]
  },
  {
   "cell_type": "markdown",
   "metadata": {},
   "source": [
    "_____\n",
    "**Go through the string below and if the length of a word is even print \"even!\"**"
   ]
  },
  {
   "cell_type": "code",
   "execution_count": 28,
   "metadata": {
    "collapsed": true
   },
   "outputs": [],
   "source": [
    "st = 'Print every word in this sentence that has an even number of letters'"
   ]
  },
  {
   "cell_type": "code",
   "execution_count": 32,
   "metadata": {},
   "outputs": [
    {
     "name": "stdout",
     "output_type": "stream",
     "text": [
      "\"word\" is even!\n",
      "\"in\" is even!\n",
      "\"this\" is even!\n",
      "\"sentence\" is even!\n",
      "\"that\" is even!\n",
      "\"an\" is even!\n",
      "\"even\" is even!\n",
      "\"number\" is even!\n",
      "\"of\" is even!\n"
     ]
    }
   ],
   "source": [
    "for word in st.split(' '):\n",
    "    if len(word) % 2 == 0:\n",
    "        print '\"%s\" is even!' %(word)"
   ]
  },
  {
   "cell_type": "markdown",
   "metadata": {},
   "source": [
    "____\n",
    "**Write a program that prints the integers from 1 to 100. But for multiples of three print \"Fizz\" instead of the number, and for the multiples of five print \"Buzz\". For numbers which are multiples of both three and five print \"FizzBuzz\".**"
   ]
  },
  {
   "cell_type": "code",
   "execution_count": 15,
   "metadata": {},
   "outputs": [
    {
     "name": "stdout",
     "output_type": "stream",
     "text": [
      "Fizz 3\n",
      "Buzz 5\n",
      "Fizz 6\n",
      "Fizz 9\n",
      "Buzz 10\n",
      "Fizz 12\n",
      "FizzBuzz 15\n",
      "Fizz 18\n",
      "Buzz 20\n",
      "Fizz 21\n",
      "Fizz 24\n",
      "Buzz 25\n",
      "Fizz 27\n",
      "FizzBuzz 30\n",
      "Fizz 33\n",
      "Buzz 35\n",
      "Fizz 36\n",
      "Fizz 39\n",
      "Buzz 40\n",
      "Fizz 42\n",
      "FizzBuzz 45\n",
      "Fizz 48\n",
      "Buzz 50\n",
      "Fizz 51\n",
      "Fizz 54\n",
      "Buzz 55\n",
      "Fizz 57\n",
      "FizzBuzz 60\n",
      "Fizz 63\n",
      "Buzz 65\n",
      "Fizz 66\n",
      "Fizz 69\n",
      "Buzz 70\n",
      "Fizz 72\n",
      "FizzBuzz 75\n",
      "Fizz 78\n",
      "Buzz 80\n",
      "Fizz 81\n",
      "Fizz 84\n",
      "Buzz 85\n",
      "Fizz 87\n",
      "FizzBuzz 90\n",
      "Fizz 93\n",
      "Buzz 95\n",
      "Fizz 96\n",
      "Fizz 99\n",
      "Buzz 100\n"
     ]
    }
   ],
   "source": [
    "for num in xrange(1,101):\n",
    "    if num % 3 == 0 and num % 5 == 0:\n",
    "        print \"FizzBuzz\", num\n",
    "    elif num % 3 == 0:\n",
    "        print \"Fizz\", num\n",
    "    elif num % 5 == 0:\n",
    "        print \"Buzz\", num"
   ]
  },
  {
   "cell_type": "markdown",
   "metadata": {},
   "source": [
    "____\n",
    "**Use List Comprehension to create a list of the first letters of every word in the string below:**"
   ]
  },
  {
   "cell_type": "code",
   "execution_count": 17,
   "metadata": {
    "collapsed": true
   },
   "outputs": [],
   "source": [
    "st = 'Create a list of the first letters of every word in this string'"
   ]
  },
  {
   "cell_type": "code",
   "execution_count": 18,
   "metadata": {},
   "outputs": [
    {
     "data": {
      "text/plain": [
       "['C', 'a', 'l', 'o', 't', 'f', 'l', 'o', 'e', 'w', 'i', 't', 's']"
      ]
     },
     "execution_count": 18,
     "metadata": {},
     "output_type": "execute_result"
    }
   ],
   "source": [
    "[word[0] for word in st.split(' ')]"
   ]
  },
  {
   "cell_type": "markdown",
   "metadata": {},
   "source": [
    "### Great Job!"
   ]
  }
 ],
 "metadata": {
  "kernelspec": {
   "display_name": "Python 2",
   "language": "python",
   "name": "python2"
  },
  "language_info": {
   "codemirror_mode": {
    "name": "ipython",
    "version": 2
   },
   "file_extension": ".py",
   "mimetype": "text/x-python",
   "name": "python",
   "nbconvert_exporter": "python",
   "pygments_lexer": "ipython2",
   "version": "2.7.14"
  }
 },
 "nbformat": 4,
 "nbformat_minor": 1
}
