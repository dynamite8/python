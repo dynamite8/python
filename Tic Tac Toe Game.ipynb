{
 "cells": [
  {
   "cell_type": "markdown",
   "metadata": {},
   "source": [
    "Prepare the empty board and setup position to differentiate the different spots on the board"
   ]
  },
  {
   "cell_type": "code",
   "execution_count": 54,
   "metadata": {
    "collapsed": true
   },
   "outputs": [],
   "source": [
    "board = [[-1]*3,[-1]*3,[-1]*3]\n",
    "positions = [range(3),range(3,6),range(6,9)]"
   ]
  },
  {
   "cell_type": "code",
   "execution_count": 55,
   "metadata": {},
   "outputs": [
    {
     "data": {
      "text/plain": [
       "[[0, 1, 2], [3, 4, 5], [6, 7, 8]]"
      ]
     },
     "execution_count": 55,
     "metadata": {},
     "output_type": "execute_result"
    }
   ],
   "source": [
    "positions"
   ]
  },
  {
   "cell_type": "markdown",
   "metadata": {},
   "source": [
    "Define the rules for the winning possibility based on the spot on the board.  See positions above."
   ]
  },
  {
   "cell_type": "code",
   "execution_count": 56,
   "metadata": {
    "collapsed": true
   },
   "outputs": [],
   "source": [
    "winningPositions = {\"0\": [(0,1,2),(0,3,6)],\n",
    "                   \"1\": [(0,1,2),(1,4,7)],\n",
    "                   \"2\": [(0,1,2),(2,5,8),(2,4,7)],\n",
    "                   \"3\": [(0,3,6),(3,4,5)],\n",
    "                   \"4\": [(1,4,7),(3,4,5),(0,4,8),(2,4,6)],\n",
    "                   \"5\": [(3,4,5),(2,5,8)],\n",
    "                   \"6\": [(0,3,6),(6,7,8),(2,4,6)],\n",
    "                   \"7\": [(6,7,8),(1,4,7)],\n",
    "                   \"8\": [(2,5,8),(0,4,8),(6,7,8)]}"
   ]
  },
  {
   "cell_type": "code",
   "execution_count": 57,
   "metadata": {},
   "outputs": [],
   "source": [
    "currentPlayer = 0\n",
    "lastMovePosition = -1\n",
    "gameOver = 0\n",
    "\n",
    "def markPosition(row, col):\n",
    "    '''\n",
    "    The user makes the moves based on row and column on the board.\n",
    "    If the user makes an invalid move, it will ask the user to try again.\n",
    "    If the game has been won, no further moves will be allowed.\n",
    "    '''\n",
    "    global currentPlayer\n",
    "    global lastMovePosition\n",
    "    global gameOver\n",
    "    \n",
    "    if gameOver:\n",
    "        print \"Game over!\"\n",
    "        return\n",
    "    \n",
    "    if board[row][col] == -1:\n",
    "        board[row][col] = currentPlayer % 2\n",
    "        lastMovePosition = col + row * 3\n",
    "\n",
    "        if checkIfPlayerWon(lastMovePosition):\n",
    "            print convertToSymbol(currentPlayer % 2), \"won!\"\n",
    "            gameOver = 1\n",
    "        else:\n",
    "            currentPlayer += 1\n",
    "    else:\n",
    "        print \"Invalid. Try again\"\n",
    "    showBoard()\n",
    "        \n",
    "def reset():\n",
    "    '''\n",
    "    Resets the board and other associated variables\n",
    "    '''\n",
    "    global currentPlayer\n",
    "    global board\n",
    "    global gameOver\n",
    "    global lastMovePosition\n",
    "    board = [[-1]*3,[-1]*3,[-1]*3]\n",
    "    currentPlayer = 0\n",
    "    gameOver = 0\n",
    "    lastMovePosition = -1\n",
    "    showBoard()\n",
    "    \n",
    "def checkIfPlayerWon(lastMovePosition):\n",
    "    '''\n",
    "    Returns True if the current user has won after making the move!\n",
    "    '''\n",
    "    for positions in winningPositions[str(lastMovePosition)]:\n",
    "        matched = 0\n",
    "        for position in positions:\n",
    "            t = rowCol(position)\n",
    "            if board[t[0]][t[1]] != currentPlayer % 2:\n",
    "                break\n",
    "            else:\n",
    "                matched += 1\n",
    "                if matched == 3:\n",
    "                    return True\n",
    "    return False\n",
    "\n",
    "def rowCol(position):\n",
    "    '''\n",
    "    Returns the tuple containing the row and column based on the position\n",
    "    '''\n",
    "    if position in range(0,3):\n",
    "        return (0, position)\n",
    "    elif position in range(3,6):\n",
    "        return (1, position - 3)\n",
    "    else:\n",
    "        return (2, position - 6)\n",
    "    \n",
    "def showBoard():\n",
    "    '''\n",
    "    Display the board using X's and O's\n",
    "    '''\n",
    "    rowNum = 0\n",
    "    for row in board:\n",
    "        colNum = 0\n",
    "        for col in row:\n",
    "            colNum += 1\n",
    "            if colNum != 3:\n",
    "                print \"{symbol} | \".format(symbol=convertToSymbol(col)),\n",
    "            else:\n",
    "                print \"{symbol}\".format(symbol=convertToSymbol(col)),\n",
    "        print \n",
    "        rowNum += 1\n",
    "        if rowNum != 3:\n",
    "            print \"-\"*12\n",
    "\n",
    "def convertToSymbol(value):\n",
    "    '''\n",
    "    Returns O for first user and X for second user else blank\n",
    "    '''\n",
    "    if value == 0:\n",
    "        return \"O\"\n",
    "    if value == 1:\n",
    "        return \"X\"\n",
    "    return \" \""
   ]
  },
  {
   "cell_type": "code",
   "execution_count": 58,
   "metadata": {},
   "outputs": [
    {
     "name": "stdout",
     "output_type": "stream",
     "text": [
      "  |    |   \n",
      "------------\n",
      "  |    |   \n",
      "------------\n",
      "  |    |   \n"
     ]
    }
   ],
   "source": [
    "reset()"
   ]
  },
  {
   "cell_type": "code",
   "execution_count": 59,
   "metadata": {},
   "outputs": [
    {
     "name": "stdout",
     "output_type": "stream",
     "text": [
      "O |    |   \n",
      "------------\n",
      "  |    |   \n",
      "------------\n",
      "  |    |   \n"
     ]
    }
   ],
   "source": [
    "markPosition(0,0)"
   ]
  },
  {
   "cell_type": "code",
   "execution_count": 60,
   "metadata": {},
   "outputs": [
    {
     "name": "stdout",
     "output_type": "stream",
     "text": [
      "O |    |   \n",
      "------------\n",
      "X |    |   \n",
      "------------\n",
      "  |    |   \n"
     ]
    }
   ],
   "source": [
    "markPosition(1,0)"
   ]
  },
  {
   "cell_type": "code",
   "execution_count": 61,
   "metadata": {},
   "outputs": [
    {
     "name": "stdout",
     "output_type": "stream",
     "text": [
      "O |    |  O\n",
      "------------\n",
      "X |    |   \n",
      "------------\n",
      "  |    |   \n"
     ]
    }
   ],
   "source": [
    "markPosition(0,2)"
   ]
  },
  {
   "cell_type": "code",
   "execution_count": 62,
   "metadata": {},
   "outputs": [
    {
     "name": "stdout",
     "output_type": "stream",
     "text": [
      "O |    |  O\n",
      "------------\n",
      "X |  X |   \n",
      "------------\n",
      "  |    |   \n"
     ]
    }
   ],
   "source": [
    "markPosition(1,1)"
   ]
  },
  {
   "cell_type": "code",
   "execution_count": 63,
   "metadata": {},
   "outputs": [
    {
     "name": "stdout",
     "output_type": "stream",
     "text": [
      "O |    |  O\n",
      "------------\n",
      "X |  X |   \n",
      "------------\n",
      "  |    |  O\n"
     ]
    }
   ],
   "source": [
    "markPosition(2,2)"
   ]
  },
  {
   "cell_type": "code",
   "execution_count": 64,
   "metadata": {},
   "outputs": [
    {
     "name": "stdout",
     "output_type": "stream",
     "text": [
      "X won!\n",
      "O |    |  O\n",
      "------------\n",
      "X |  X |  X\n",
      "------------\n",
      "  |    |  O\n"
     ]
    }
   ],
   "source": [
    "markPosition(1,2)"
   ]
  },
  {
   "cell_type": "code",
   "execution_count": 65,
   "metadata": {},
   "outputs": [
    {
     "name": "stdout",
     "output_type": "stream",
     "text": [
      "Game over!\n"
     ]
    }
   ],
   "source": [
    "markPosition(1,2)"
   ]
  },
  {
   "cell_type": "code",
   "execution_count": null,
   "metadata": {
    "collapsed": true
   },
   "outputs": [],
   "source": []
  }
 ],
 "metadata": {
  "kernelspec": {
   "display_name": "Python 2",
   "language": "python",
   "name": "python2"
  },
  "language_info": {
   "codemirror_mode": {
    "name": "ipython",
    "version": 2
   },
   "file_extension": ".py",
   "mimetype": "text/x-python",
   "name": "python",
   "nbconvert_exporter": "python",
   "pygments_lexer": "ipython2",
   "version": "2.7.14"
  }
 },
 "nbformat": 4,
 "nbformat_minor": 2
}
