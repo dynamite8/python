{
 "cells": [
  {
   "cell_type": "markdown",
   "metadata": {},
   "source": [
    "Tic Tac Toe Solution for a 4 x 4 board"
   ]
  },
  {
   "cell_type": "code",
   "execution_count": 11,
   "metadata": {},
   "outputs": [
    {
     "name": "stdout",
     "output_type": "stream",
     "text": [
      "[['_', '_', '_', '_'], ['_', 'x', 'x', 'x'], ['_', '_', 'o', '_'], ['_', 'o', '_', 'o']]\n",
      "x\n"
     ]
    }
   ],
   "source": [
    "board = '''\n",
    "_ _ _ _ \n",
    "_ x x x\n",
    "_ _ o _\n",
    "_ o _ o\n",
    "'''\n",
    "\n",
    "def parse_board(b):\n",
    "    return [line.split()\n",
    "           for line in b.splitlines()\n",
    "           if len(line) > 0]\n",
    "\n",
    "def is_winning(data):\n",
    "    '''\n",
    "    Returns x if x won or o if o won else None\n",
    "    '''\n",
    "    check_positions = possible_winning_positions(data)\n",
    "    for position in check_positions:\n",
    "        for player in ['x','o']:\n",
    "            if position[:3].count(player) == 3:\n",
    "                return player\n",
    "            if position[1:].count(player) == 3:\n",
    "                return player\n",
    "    return 'None'\n",
    "\n",
    "def possible_winning_positions(data):\n",
    "    '''\n",
    "    Returns a list of possible positions to check for the win, mainly all the rows, columns and diagonals\n",
    "    '''\n",
    "    possibleWins = [row for row in data]\n",
    "    step = -1\n",
    "    step2 = 0\n",
    "    diagonals = [[],[]]\n",
    "    for index in xrange(len(data)):\n",
    "        # rows\n",
    "        possibleWins.append(data[index])\n",
    "\n",
    "        # columns\n",
    "        possibleWins.append([row[index] for row in data]) \n",
    "\n",
    "        # cover diagonal positions\n",
    "        diagonals[0].append(data[index][step])\n",
    "        diagonals[1].append(data[index][step2])\n",
    "        step -= 1\n",
    "        step += 1\n",
    "\n",
    "    for diagonal in diagonals:\n",
    "        possibleWins.append(diagonal)\n",
    "    return possibleWins\n",
    "\n",
    "print(parse_board(board)) # [[\"\",\"\",\"\",\"\"],[],[],[]]\n",
    "print(is_winning(parse_board(board))) # "
   ]
  },
  {
   "cell_type": "markdown",
   "metadata": {},
   "source": [
    "Below are some checks done to achieve the above solution. Feel free to disregard."
   ]
  },
  {
   "cell_type": "code",
   "execution_count": 12,
   "metadata": {
    "collapsed": true
   },
   "outputs": [],
   "source": [
    "test_board = parse_board(board)"
   ]
  },
  {
   "cell_type": "code",
   "execution_count": 13,
   "metadata": {},
   "outputs": [
    {
     "data": {
      "text/plain": [
       "[['_', '_', '_', '_'],\n",
       " ['_', 'x', 'x', 'x'],\n",
       " ['_', '_', 'o', '_'],\n",
       " ['_', 'o', '_', 'o']]"
      ]
     },
     "execution_count": 13,
     "metadata": {},
     "output_type": "execute_result"
    }
   ],
   "source": [
    "test_board"
   ]
  },
  {
   "cell_type": "code",
   "execution_count": 14,
   "metadata": {},
   "outputs": [
    {
     "name": "stdout",
     "output_type": "stream",
     "text": [
      "['_', '_', '_', '_']\n",
      "['_', 'x', 'x', 'x']\n",
      "['_', '_', 'o', '_']\n",
      "['_', 'o', '_', 'o']\n"
     ]
    }
   ],
   "source": [
    "for row in test_board:\n",
    "    print row"
   ]
  },
  {
   "cell_type": "code",
   "execution_count": 15,
   "metadata": {},
   "outputs": [
    {
     "name": "stdout",
     "output_type": "stream",
     "text": [
      "['_', '_', '_', '_']\n",
      "['_', 'x', '_', 'o']\n",
      "['_', 'x', 'o', '_']\n",
      "['_', 'x', '_', 'o']\n"
     ]
    }
   ],
   "source": [
    "for index in xrange(len(test_board)):\n",
    "    print [row[index] for row in test_board] # col"
   ]
  },
  {
   "cell_type": "code",
   "execution_count": 16,
   "metadata": {},
   "outputs": [
    {
     "name": "stdout",
     "output_type": "stream",
     "text": [
      "_\n",
      "x\n",
      "o\n",
      "o\n"
     ]
    }
   ],
   "source": [
    "# first diagonal - top left to bottom right corner\n",
    "index = 0\n",
    "for row in test_board:\n",
    "    print row[index]\n",
    "    index += 1"
   ]
  },
  {
   "cell_type": "code",
   "execution_count": 17,
   "metadata": {},
   "outputs": [
    {
     "name": "stdout",
     "output_type": "stream",
     "text": [
      "_\n",
      "x\n",
      "_\n",
      "_\n"
     ]
    }
   ],
   "source": [
    "# second diagonal - top right to bottom left corner\n",
    "index = -1\n",
    "for row in test_board:\n",
    "    print row[index]\n",
    "    index -= 1"
   ]
  },
  {
   "cell_type": "code",
   "execution_count": 18,
   "metadata": {},
   "outputs": [
    {
     "name": "stdout",
     "output_type": "stream",
     "text": [
      "['_', 'x', '_', '_']\n",
      "['_', 'x', 'o', 'o']\n"
     ]
    }
   ],
   "source": [
    "# second diagonal - top right to bottom left corner\n",
    "index = -1\n",
    "index2 = 0\n",
    "diagonal1 = []\n",
    "diagonal2 = []\n",
    "for row in test_board:\n",
    "    diagonal1.append(row[index])\n",
    "    diagonal2.append(row[index2])\n",
    "    index -= 1\n",
    "    index2 += 1\n",
    "\n",
    "print diagonal1\n",
    "print diagonal2"
   ]
  },
  {
   "cell_type": "code",
   "execution_count": 19,
   "metadata": {},
   "outputs": [],
   "source": [
    "def possible_winning_positions(data):\n",
    "    possibleWins = [row for row in data]\n",
    "    step = -1\n",
    "    step2 = 0\n",
    "    diagonals = [[],[]]\n",
    "    for index in xrange(len(data)):\n",
    "        # rows\n",
    "        possibleWins.append(data[index])\n",
    "\n",
    "        # columns\n",
    "        possibleWins.append([row[index] for row in data]) \n",
    "\n",
    "        # cover diagonal positions\n",
    "        diagonals[0].append(data[index][step])\n",
    "        diagonals[1].append(data[index][step2])\n",
    "        step -= 1\n",
    "        step += 1\n",
    "\n",
    "    for diagonal in diagonals:\n",
    "        possibleWins.append(diagonal)\n",
    "    return possibleWins"
   ]
  },
  {
   "cell_type": "code",
   "execution_count": 20,
   "metadata": {},
   "outputs": [
    {
     "data": {
      "text/plain": [
       "[['_', '_', '_', '_'],\n",
       " ['_', 'x', 'x', 'x'],\n",
       " ['_', '_', 'o', '_'],\n",
       " ['_', 'o', '_', 'o'],\n",
       " ['_', '_', '_', '_'],\n",
       " ['_', '_', '_', '_'],\n",
       " ['_', 'x', 'x', 'x'],\n",
       " ['_', 'x', '_', 'o'],\n",
       " ['_', '_', 'o', '_'],\n",
       " ['_', 'x', 'o', '_'],\n",
       " ['_', 'o', '_', 'o'],\n",
       " ['_', 'x', '_', 'o'],\n",
       " ['_', 'x', '_', 'o'],\n",
       " ['_', '_', '_', '_']]"
      ]
     },
     "execution_count": 20,
     "metadata": {},
     "output_type": "execute_result"
    }
   ],
   "source": [
    "possible_winning_positions(test_board)"
   ]
  },
  {
   "cell_type": "code",
   "execution_count": null,
   "metadata": {
    "collapsed": true
   },
   "outputs": [],
   "source": []
  }
 ],
 "metadata": {
  "kernelspec": {
   "display_name": "Python 2",
   "language": "python",
   "name": "python2"
  },
  "language_info": {
   "codemirror_mode": {
    "name": "ipython",
    "version": 2
   },
   "file_extension": ".py",
   "mimetype": "text/x-python",
   "name": "python",
   "nbconvert_exporter": "python",
   "pygments_lexer": "ipython2",
   "version": "2.7.14"
  }
 },
 "nbformat": 4,
 "nbformat_minor": 2
}
