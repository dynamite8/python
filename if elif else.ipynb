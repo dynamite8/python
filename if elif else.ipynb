{
 "cells": [
  {
   "cell_type": "code",
   "execution_count": 3,
   "metadata": {},
   "outputs": [
    {
     "name": "stdout",
     "output_type": "stream",
     "text": [
      "It was True\n"
     ]
    }
   ],
   "source": [
    "if True:\n",
    "    print \"It was True\""
   ]
  },
  {
   "cell_type": "code",
   "execution_count": 6,
   "metadata": {},
   "outputs": [
    {
     "name": "stdout",
     "output_type": "stream",
     "text": [
      "x was True\n"
     ]
    }
   ],
   "source": [
    "x = True\n",
    "if x:\n",
    "    print \"x was True\"\n",
    "else:\n",
    "    print \"I will print when x is anything not True\""
   ]
  },
  {
   "cell_type": "code",
   "execution_count": 7,
   "metadata": {},
   "outputs": [
    {
     "name": "stdout",
     "output_type": "stream",
     "text": [
      "Welcome to the bank!\n"
     ]
    }
   ],
   "source": [
    "location = 'Bank'\n",
    "\n",
    "if location == 'Auto Shop':\n",
    "    print \"Welcome to the Auto Shop!\"\n",
    "elif location == 'Bank':\n",
    "    print \"Welcome to the bank!\"\n",
    "else:\n",
    "    print 'Where are you?'"
   ]
  },
  {
   "cell_type": "code",
   "execution_count": 1,
   "metadata": {},
   "outputs": [
    {
     "name": "stdout",
     "output_type": "stream",
     "text": [
      "Hi Sam!\n"
     ]
    }
   ],
   "source": [
    "person = \"Sam\"\n",
    "\n",
    "if person == \"Sam\":\n",
    "    print \"Hi %s!\" %(person)\n",
    "else:\n",
    "    print \"What's your name?\"\n"
   ]
  },
  {
   "cell_type": "code",
   "execution_count": 3,
   "metadata": {},
   "outputs": [
    {
     "data": {
      "text/plain": [
       "True"
      ]
     },
     "execution_count": 3,
     "metadata": {},
     "output_type": "execute_result"
    }
   ],
   "source": [
    "person == \"Sam\""
   ]
  },
  {
   "cell_type": "code",
   "execution_count": 6,
   "metadata": {},
   "outputs": [
    {
     "name": "stdout",
     "output_type": "stream",
     "text": [
      "I am happy!\n"
     ]
    }
   ],
   "source": [
    "iAmHappy = True\n",
    "age = 10\n",
    "\n",
    "if iAmHappy:\n",
    "    print \"I am happy!\"\n",
    "\n",
    "else:\n",
    "    print \"I am not so happy\"\n",
    "    \n",
    "if iAmHappy and age >= 21:\n",
    "    print \"I am so happy that I can drink legally\"\n",
    "\n"
   ]
  },
  {
   "cell_type": "code",
   "execution_count": null,
   "metadata": {
    "collapsed": true
   },
   "outputs": [],
   "source": []
  }
 ],
 "metadata": {
  "kernelspec": {
   "display_name": "Python 2",
   "language": "python",
   "name": "python2"
  },
  "language_info": {
   "codemirror_mode": {
    "name": "ipython",
    "version": 2
   },
   "file_extension": ".py",
   "mimetype": "text/x-python",
   "name": "python",
   "nbconvert_exporter": "python",
   "pygments_lexer": "ipython2",
   "version": "2.7.14"
  }
 },
 "nbformat": 4,
 "nbformat_minor": 2
}
